{
 "cells": [
  {
   "cell_type": "markdown",
   "id": "0c200190",
   "metadata": {},
   "source": [
    "## Product Analysis report\n",
    "\n",
    "\n",
    "### Background\n",
    "\n",
    " The company is a startup offering an innovative product that is transforming commercial real estate monitoring and management. Its target market is the commercial real estate industry. In order to stay in business, it is not enough to access the market by landing demo request but more essentially turn those requests into conversions and increase conversion rate. Thus, the main goal of the product team is started as follows;\n",
    "\n",
    "\n",
    "### Product team goal for analysis\n",
    "To increase conversion from demo request to contract signing\n",
    "\n",
    "\n",
    "### Business Problem statement\n",
    "\n",
    "#### Problem statement 1: Assessing the relationship between sales script type and conversion\n",
    "The product team aims at undertaking a data-based decision making to achieve its goal. To achieve that, data has been collected to be analyzed to gain insights. The challenge is to investigate how various variables influence our goal by asking the right business questions.\n",
    "\n",
    "We have been using different scripts during the demo sessions and as expected not all demo sessions result in conversion. We will want to understand if there is any trend and factor contributing to conversion that needs to be maximized and manage any other factor detrimental to conversion. This is one of our business problems to be analyzed. Given the fact that sales script was one of the tools used during the demo session, we are tempted to hypothesize it is associated with conversion. This understanding have been translated into the following analytical framework for further assessment.\n",
    "\n",
    "#### Null Hypothesis (H0): There is no relationship between type of sales script and conversion\n",
    "#### Alternative Hypothesis (H1): There is a relationship between type of sales script and conversion\n",
    "\n",
    "\n",
    "\n",
    "\n",
    "#### Problem statement 2: Assessing difference in total conversions made by different sales scripts\n",
    "Each of the sales script used during the demo session has produce some conversion. While the total conversion for each script can be easily assessed, we need to go beyond that and assess if there is any difference and more importantly if the difference in conversion is significant to suggest a preference for one of them to increase the chances of achieving higher conversion. This need not be a guesswork but data driven hence have been translated into the following hypothesis for analysis;\n",
    "\n",
    "#### Null hypothesis (H0): Difference in mean conversion among all sales scripts is equal\n",
    "#### Alternative hypothesis (H1): There is difference in mean conversion for at least one of sales scripts\n",
    "\n",
    "\n",
    "\n",
    "\n",
    "#### Problem statement 3: To sales scripts that produces significantly higher conversions \n",
    "The result for the hypothesis stated above will determine whether or not there is the need for further enquiry in the form of post-hoc test. If the analysis results in rejection of the null hypothesis, then there will be the need to assess how the different sales scripts compare to each other in order to identify which of the sales scripts produce significantly higher mean conversion.\n",
    "\n",
    "\n",
    "\n",
    "\n",
    "#### Problem statement 4: Assessing factors that influence the decision of a client to convert\n",
    "For our success, the higher the amount of conversions, the better. The business problem at hand is to understand the drivers of conversion. The decision by a client to purchase our product or not during or after a demo session is one that needs to be better understood so we can do more of what makes them convert and less of what deter them from buying our products. This problem requires a deep dive into our data to carefully assess how the various factors for which data is available are playing a role.\n",
    "\n",
    "\n",
    "\n",
    "\n",
    "\n",
    "### Business questions to answer\n",
    "Based on the the business problem statements conceptualized, this analysis is undertaken to provide answers to the following business questions as a guide.\n",
    "\n",
    "\n",
    "1. Is there a significant relationship between type of sales script and conversion?\n",
    "\n",
    "2. Are all sales scripts achieving a similar amount of conversions? \n",
    "\n",
    "3. How do sales scripts compare in terms of conversions and which sales scripts can be used to achiever higher conversions? \n",
    "\n",
    "4. How do various factors influence the probability of a client to sign-up for our product?\n",
    "\n",
    "\n",
    "\n",
    "\n",
    "### Business objectives\n",
    "To define the data analysis tasks, the business questions are translated into objectives as follows \n",
    "\n",
    "1. To test the hypothesis that there is a statistically significant relationship between type of sales script and conversion\n",
    "\n",
    "2. To test the hypothesis that difference in mean conversion among sales script are equal\n",
    "\n",
    "3. To assess and identify which sales script produces higher total conversions on the average if any\n",
    "\n",
    "4. To assess various potential drivers of conversion and understand their influence\n",
    "\n",
    "\n",
    "\n",
    "\n",
    "### Data analysis task\n",
    "This section details the procedure used to analyzed the data to derive insights and draw recommendations. First of all it is important to highlight some of the formula used.\n",
    "\n",
    "#### Formula used\n",
    "Conversion rate (С1) = [N of contracts signed] / [N of Demo requests] * 100\n",
    "\n",
    "Conversion rate for script = (Total conversions where script was used) / (Total number of demo sessions where script was used)\n",
    "\n",
    "\n",
    "\n",
    "\n",
    "#### Assumptions\n",
    "In order to make results reproducible and understandable for contextualized interpretation, much effort is made to lay bare assumptions that may influence how proper insights is drawn. Some of these assumptions are required for the statistical analysis undertaken to hold true. These are highlighted in this section as follows.\n",
    "\n",
    "1. Scripts were used independently, that is a single script was applied for a client.\n",
    "\n",
    "\n",
    "2. All scripts were used for approximately the same time period. It is however realized from the data that the first demo appointment session for which script C was used was on 2020-01-08 16:50:35 and the last date of use was 2021-03-01 19:40:01. For script A, it was first used for a demo session on 2019-12-28 03:57:38 and its last usage was on 2021-03-29 12:44:07. Script B was first used for a demo session on 2019-12-28 11:38:55 and last used was on 2021-03-06 16:57:21. Thus, data exploration shows some differences in date of first usage and last usage of script but this difference is assummed to be negligible in order to compare the mean conversions among them.\n",
    "\n",
    "### Data exploration"
   ]
  },
  {
   "cell_type": "code",
   "execution_count": 521,
   "id": "a962caa0",
   "metadata": {},
   "outputs": [],
   "source": [
    "## Import packages\n",
    "import pandas as pd\n",
    "from pandas_ply import install_ply, X, sym_call\n",
    "from dplython import (DplyFrame, X, diamonds, select, sift, sample_n,\n",
    "    sample_frac, head, arrange, mutate, group_by, summarize, DelayFunction) \n",
    "\n",
    "from ggpy import *\n",
    "from plotnine import *\n",
    "import sklearn as sk\n",
    "import numpy as np\n",
    "import matplotlib.pyplot as plt\n",
    "import datetime\n",
    "import seaborn as sns\n",
    "from dplython import *\n",
    "from dscitools import *\n",
    "from plotly import *\n",
    "#from ggplot import *\n",
    "from siuba import *\n",
    "import siuba.experimental.completer\n",
    "import scipy.stats as stats \n",
    "from bioinfokit.analys import stat\n",
    "import statsmodels.api as sm\n",
    "import pingouin as pg\n",
    "import scikit_posthocs as sp\n",
    "from sklearn.linear_model import LogisticRegression, LogisticRegressionCV\n",
    "from sklearn.model_selection import train_test_split\n",
    "#from mord import LogisticIT\n",
    "#from dmba import classificationSummary, gainsChart, liftChart\n",
    "#from dmba.metric import AIC_score\n",
    "\n",
    "\n"
   ]
  },
  {
   "cell_type": "markdown",
   "id": "9a93b357",
   "metadata": {},
   "source": [
    "#### Importing and inspecting dataset\n",
    "The data analysis begins with importing the data and inspecting to have a view of the variables. Initial manipulation of the original dataset was done in R. In this section, the data is explored. "
   ]
  },
  {
   "cell_type": "code",
   "execution_count": 529,
   "id": "4e22809b",
   "metadata": {},
   "outputs": [
    {
     "data": {
      "text/html": [
       "<div>\n",
       "<style scoped>\n",
       "    .dataframe tbody tr th:only-of-type {\n",
       "        vertical-align: middle;\n",
       "    }\n",
       "\n",
       "    .dataframe tbody tr th {\n",
       "        vertical-align: top;\n",
       "    }\n",
       "\n",
       "    .dataframe thead th {\n",
       "        text-align: right;\n",
       "    }\n",
       "</style>\n",
       "<table border=\"1\" class=\"dataframe\">\n",
       "  <thead>\n",
       "    <tr style=\"text-align: right;\">\n",
       "      <th></th>\n",
       "      <th>Unnamed: 0</th>\n",
       "      <th>request_id</th>\n",
       "      <th>source</th>\n",
       "      <th>request_created_at</th>\n",
       "      <th>company_type</th>\n",
       "      <th>first_call</th>\n",
       "      <th>first_reach</th>\n",
       "      <th>sales_script_variant</th>\n",
       "      <th>sales_group_name</th>\n",
       "      <th>demo_appointment_datetime</th>\n",
       "      <th>...</th>\n",
       "      <th>first_call_date</th>\n",
       "      <th>first_reach_date</th>\n",
       "      <th>request_created_year</th>\n",
       "      <th>request_created_month</th>\n",
       "      <th>request_to_1stcall_interval</th>\n",
       "      <th>request_to_1streach_interval</th>\n",
       "      <th>first_call_to_1streach_interval</th>\n",
       "      <th>request_to_1stcall_timelength_minutes_</th>\n",
       "      <th>request_to_1streach_timelength_minutes_</th>\n",
       "      <th>first_call_to_1streach_timelength_minutes_</th>\n",
       "    </tr>\n",
       "  </thead>\n",
       "  <tbody>\n",
       "    <tr>\n",
       "      <th>0</th>\n",
       "      <td>1</td>\n",
       "      <td>10457322</td>\n",
       "      <td>a636bcf354a837fb5c25c3d5b940170b</td>\n",
       "      <td>2020-04-03 04:10:45</td>\n",
       "      <td>1.0</td>\n",
       "      <td>2020-04-03 16:43:59</td>\n",
       "      <td>2020-04-03 22:11:27</td>\n",
       "      <td>a170e8b5b0085420fa52f9f9e1d546f9</td>\n",
       "      <td>d4f622b69e50e86a65cd6fae4bcf575f</td>\n",
       "      <td>2020-04-04 15:28:14</td>\n",
       "      <td>...</td>\n",
       "      <td>2020-04-03 16:43:59</td>\n",
       "      <td>2020-04-03 22:11:27</td>\n",
       "      <td>2020</td>\n",
       "      <td>April</td>\n",
       "      <td>2020-04-03 04:10:45 UTC--2020-04-03 16:43:59 UTC</td>\n",
       "      <td>2020-04-03 04:10:45 UTC--2020-04-03 22:11:27 UTC</td>\n",
       "      <td>2020-04-03 16:43:59 UTC--2020-04-03 22:11:27 UTC</td>\n",
       "      <td>753.241813</td>\n",
       "      <td>1080.707589</td>\n",
       "      <td>327.465776</td>\n",
       "    </tr>\n",
       "    <tr>\n",
       "      <th>1</th>\n",
       "      <td>2</td>\n",
       "      <td>11236929</td>\n",
       "      <td>91ce888e6774bd668a675b5640499103</td>\n",
       "      <td>2020-07-12 03:31:39</td>\n",
       "      <td>NaN</td>\n",
       "      <td>2020-07-12 04:47:12</td>\n",
       "      <td>2020-07-12 07:05:38</td>\n",
       "      <td>a170e8b5b0085420fa52f9f9e1d546f9</td>\n",
       "      <td>d4f622b69e50e86a65cd6fae4bcf575f</td>\n",
       "      <td>2020-07-12 15:02:07</td>\n",
       "      <td>...</td>\n",
       "      <td>2020-07-12 04:47:12</td>\n",
       "      <td>2020-07-12 07:05:38</td>\n",
       "      <td>2020</td>\n",
       "      <td>July</td>\n",
       "      <td>2020-07-12 03:31:39 UTC--2020-07-12 04:47:12 UTC</td>\n",
       "      <td>2020-07-12 03:31:39 UTC--2020-07-12 07:05:38 UTC</td>\n",
       "      <td>2020-07-12 04:47:12 UTC--2020-07-12 07:05:38 UTC</td>\n",
       "      <td>75.555204</td>\n",
       "      <td>213.984909</td>\n",
       "      <td>138.429704</td>\n",
       "    </tr>\n",
       "    <tr>\n",
       "      <th>2</th>\n",
       "      <td>3</td>\n",
       "      <td>10246280</td>\n",
       "      <td>91ce888e6774bd668a675b5640499103</td>\n",
       "      <td>2020-02-01 03:19:28</td>\n",
       "      <td>NaN</td>\n",
       "      <td>2020-02-04 04:45:20</td>\n",
       "      <td>2020-02-04 10:42:35</td>\n",
       "      <td>e908f62885515872936a2bf07e5960a0</td>\n",
       "      <td>a0b8ef7535f9201f77c5a97d2ba4db2b</td>\n",
       "      <td>2020-02-02 07:07:41</td>\n",
       "      <td>...</td>\n",
       "      <td>2020-02-04 04:45:20</td>\n",
       "      <td>2020-02-04 10:42:35</td>\n",
       "      <td>2020</td>\n",
       "      <td>February</td>\n",
       "      <td>2020-02-01 03:19:28 UTC--2020-02-04 04:45:20 UTC</td>\n",
       "      <td>2020-02-01 03:19:28 UTC--2020-02-04 10:42:35 UTC</td>\n",
       "      <td>2020-02-04 04:45:20 UTC--2020-02-04 10:42:35 UTC</td>\n",
       "      <td>4405.881846</td>\n",
       "      <td>4763.120070</td>\n",
       "      <td>357.238224</td>\n",
       "    </tr>\n",
       "  </tbody>\n",
       "</table>\n",
       "<p>3 rows × 26 columns</p>\n",
       "</div>"
      ],
      "text/plain": [
       "   Unnamed: 0  request_id                            source  \\\n",
       "0           1    10457322  a636bcf354a837fb5c25c3d5b940170b   \n",
       "1           2    11236929  91ce888e6774bd668a675b5640499103   \n",
       "2           3    10246280  91ce888e6774bd668a675b5640499103   \n",
       "\n",
       "    request_created_at  company_type           first_call  \\\n",
       "0  2020-04-03 04:10:45           1.0  2020-04-03 16:43:59   \n",
       "1  2020-07-12 03:31:39           NaN  2020-07-12 04:47:12   \n",
       "2  2020-02-01 03:19:28           NaN  2020-02-04 04:45:20   \n",
       "\n",
       "           first_reach              sales_script_variant  \\\n",
       "0  2020-04-03 22:11:27  a170e8b5b0085420fa52f9f9e1d546f9   \n",
       "1  2020-07-12 07:05:38  a170e8b5b0085420fa52f9f9e1d546f9   \n",
       "2  2020-02-04 10:42:35  e908f62885515872936a2bf07e5960a0   \n",
       "\n",
       "                   sales_group_name demo_appointment_datetime  ...  \\\n",
       "0  d4f622b69e50e86a65cd6fae4bcf575f       2020-04-04 15:28:14  ...   \n",
       "1  d4f622b69e50e86a65cd6fae4bcf575f       2020-07-12 15:02:07  ...   \n",
       "2  a0b8ef7535f9201f77c5a97d2ba4db2b       2020-02-02 07:07:41  ...   \n",
       "\n",
       "       first_call_date     first_reach_date request_created_year  \\\n",
       "0  2020-04-03 16:43:59  2020-04-03 22:11:27                 2020   \n",
       "1  2020-07-12 04:47:12  2020-07-12 07:05:38                 2020   \n",
       "2  2020-02-04 04:45:20  2020-02-04 10:42:35                 2020   \n",
       "\n",
       "  request_created_month                       request_to_1stcall_interval  \\\n",
       "0                 April  2020-04-03 04:10:45 UTC--2020-04-03 16:43:59 UTC   \n",
       "1                  July  2020-07-12 03:31:39 UTC--2020-07-12 04:47:12 UTC   \n",
       "2              February  2020-02-01 03:19:28 UTC--2020-02-04 04:45:20 UTC   \n",
       "\n",
       "                       request_to_1streach_interval  \\\n",
       "0  2020-04-03 04:10:45 UTC--2020-04-03 22:11:27 UTC   \n",
       "1  2020-07-12 03:31:39 UTC--2020-07-12 07:05:38 UTC   \n",
       "2  2020-02-01 03:19:28 UTC--2020-02-04 10:42:35 UTC   \n",
       "\n",
       "                    first_call_to_1streach_interval  \\\n",
       "0  2020-04-03 16:43:59 UTC--2020-04-03 22:11:27 UTC   \n",
       "1  2020-07-12 04:47:12 UTC--2020-07-12 07:05:38 UTC   \n",
       "2  2020-02-04 04:45:20 UTC--2020-02-04 10:42:35 UTC   \n",
       "\n",
       "  request_to_1stcall_timelength_minutes_  \\\n",
       "0                             753.241813   \n",
       "1                              75.555204   \n",
       "2                            4405.881846   \n",
       "\n",
       "   request_to_1streach_timelength_minutes_  \\\n",
       "0                              1080.707589   \n",
       "1                               213.984909   \n",
       "2                              4763.120070   \n",
       "\n",
       "  first_call_to_1streach_timelength_minutes_  \n",
       "0                                 327.465776  \n",
       "1                                 138.429704  \n",
       "2                                 357.238224  \n",
       "\n",
       "[3 rows x 26 columns]"
      ]
     },
     "execution_count": 529,
     "metadata": {},
     "output_type": "execute_result"
    }
   ],
   "source": [
    "## import data and read top 5\n",
    "\n",
    "df = pd.read_csv('/Users/lin/Documents/Envio GmbH/data_transform.csv')\n",
    "\n",
    "## View first 3 rows of the data\n",
    "df.head(3)\n"
   ]
  },
  {
   "cell_type": "code",
   "execution_count": 524,
   "id": "30e94971",
   "metadata": {},
   "outputs": [
    {
     "data": {
      "text/plain": [
       "array(['a170e8b5b0085420fa52f9f9e1d546f9',\n",
       "       'e908f62885515872936a2bf07e5960a0',\n",
       "       '21790c97eeb6336e5f0fdb9ef4de636f'], dtype=object)"
      ]
     },
     "execution_count": 524,
     "metadata": {},
     "output_type": "execute_result"
    }
   ],
   "source": [
    "## Identify the categories of sales scripts\n",
    "df.sales_script_variant.unique()"
   ]
  },
  {
   "cell_type": "code",
   "execution_count": 525,
   "id": "d5bdecae",
   "metadata": {},
   "outputs": [
    {
     "name": "stdout",
     "output_type": "stream",
     "text": [
      "<class 'pandas.core.frame.DataFrame'>\n",
      "RangeIndex: 10000 entries, 0 to 9999\n",
      "Data columns (total 26 columns):\n",
      " #   Column                                      Non-Null Count  Dtype  \n",
      "---  ------                                      --------------  -----  \n",
      " 0   Unnamed: 0                                  10000 non-null  int64  \n",
      " 1   request_id                                  10000 non-null  int64  \n",
      " 2   source                                      10000 non-null  object \n",
      " 3   request_created_at                          10000 non-null  object \n",
      " 4   company_type                                5084 non-null   float64\n",
      " 5   first_call                                  10000 non-null  object \n",
      " 6   first_reach                                 9418 non-null   object \n",
      " 7   sales_script_variant                        10000 non-null  object \n",
      " 8   sales_group_name                            10000 non-null  object \n",
      " 9   demo_appointment_datetime                   10000 non-null  object \n",
      " 10  appointment_added_by_id                     10000 non-null  int64  \n",
      " 11  is_signed                                   10000 non-null  int64  \n",
      " 12  conversion                                  10000 non-null  object \n",
      " 13  sales_script_type                           10000 non-null  object \n",
      " 14  company_group                               10000 non-null  object \n",
      " 15  request_created_date                        10000 non-null  object \n",
      " 16  first_call_date                             10000 non-null  object \n",
      " 17  first_reach_date                            9418 non-null   object \n",
      " 18  request_created_year                        10000 non-null  int64  \n",
      " 19  request_created_month                       10000 non-null  object \n",
      " 20  request_to_1stcall_interval                 10000 non-null  object \n",
      " 21  request_to_1streach_interval                10000 non-null  object \n",
      " 22  first_call_to_1streach_interval             10000 non-null  object \n",
      " 23  request_to_1stcall_timelength_minutes_      10000 non-null  float64\n",
      " 24  request_to_1streach_timelength_minutes_     9418 non-null   float64\n",
      " 25  first_call_to_1streach_timelength_minutes_  9418 non-null   float64\n",
      "dtypes: float64(4), int64(5), object(17)\n",
      "memory usage: 2.0+ MB\n"
     ]
    }
   ],
   "source": [
    "## get description of the variables in the data\n",
    "\n",
    "df.info()"
   ]
  },
  {
   "cell_type": "code",
   "execution_count": 526,
   "id": "d6374b76",
   "metadata": {},
   "outputs": [
    {
     "data": {
      "text/plain": [
       "(10000, 26)"
      ]
     },
     "execution_count": 526,
     "metadata": {},
     "output_type": "execute_result"
    }
   ],
   "source": [
    "## shows the shape of the data -- number of rows and columns\n",
    "df.shape"
   ]
  },
  {
   "cell_type": "code",
   "execution_count": 528,
   "id": "741717a8",
   "metadata": {},
   "outputs": [],
   "source": [
    "## Cast the data into DplyFrame in order to use dplython functions on it.\n",
    "\n",
    "df_dataframe = DplyFrame(df)\n"
   ]
  },
  {
   "cell_type": "markdown",
   "id": "98dc2c00",
   "metadata": {},
   "source": [
    "### Estimating total number of conversions for the whole period covered\n",
    "##### Keywords\n",
    "##### Non-conersion are cases where the client did not sign up during and after the demo session\n",
    "\n",
    "Given that our goal is to increase conversion, the analysis will centered around that. First, the total number of conversion is estimated and compared to non-conversion\n",
    "\n",
    "From the analysis below, total number of conversion was 5,018 which is slightly higher than non-conversion of 4,982.\n",
    "The sum of both conversion and non-conversion equates to the total number of requests made."
   ]
  },
  {
   "cell_type": "code",
   "execution_count": 538,
   "id": "1f8a5999",
   "metadata": {},
   "outputs": [
    {
     "ename": "SyntaxError",
     "evalue": "invalid syntax (<ipython-input-538-f3fc60d8ed6f>, line 2)",
     "output_type": "error",
     "traceback": [
      "\u001b[0;36m  File \u001b[0;32m\"<ipython-input-538-f3fc60d8ed6f>\"\u001b[0;36m, line \u001b[0;32m2\u001b[0m\n\u001b[0;31m    (df_dplyselect = df_dataframe >> siuba.select(_.is_signed, _.conversion, _.sales_script_type, _.request_to_1streach_timelength_minutes_, _.company_group))\u001b[0m\n\u001b[0m                   ^\u001b[0m\n\u001b[0;31mSyntaxError\u001b[0m\u001b[0;31m:\u001b[0m invalid syntax\n"
     ]
    }
   ],
   "source": [
    "## select some columns needed to estimating conversion\n",
    "(df_dplyselect = df_dataframe >> siuba.select(_.is_signed, _.conversion, _.sales_script_type, _.request_to_1streach_timelength_minutes_, _.company_group))\n",
    "    \n",
    "## Group data based on conversion column and count number of conversion\n",
    "conversion_total = df_dplyselect >> group_by(X.conversion) >> summarize(total_conversion = X.conversion.count())\n",
    "\n",
    "conversion_total\n",
    "#df_dplyselect"
   ]
  },
  {
   "cell_type": "code",
   "execution_count": 539,
   "id": "ab50ca89",
   "metadata": {},
   "outputs": [
    {
     "data": {
      "text/html": [
       "<div>\n",
       "<style scoped>\n",
       "    .dataframe tbody tr th:only-of-type {\n",
       "        vertical-align: middle;\n",
       "    }\n",
       "\n",
       "    .dataframe tbody tr th {\n",
       "        vertical-align: top;\n",
       "    }\n",
       "\n",
       "    .dataframe thead th {\n",
       "        text-align: right;\n",
       "    }\n",
       "</style>\n",
       "<table border=\"1\" class=\"dataframe\">\n",
       "  <thead>\n",
       "    <tr style=\"text-align: right;\">\n",
       "      <th></th>\n",
       "      <th>conversion</th>\n",
       "      <th>total_conversion</th>\n",
       "    </tr>\n",
       "  </thead>\n",
       "  <tbody>\n",
       "    <tr>\n",
       "      <th>0</th>\n",
       "      <td>convert</td>\n",
       "      <td>5018</td>\n",
       "    </tr>\n",
       "    <tr>\n",
       "      <th>1</th>\n",
       "      <td>not_convert</td>\n",
       "      <td>4982</td>\n",
       "    </tr>\n",
       "  </tbody>\n",
       "</table>\n",
       "</div>"
      ],
      "text/plain": [
       "    conversion  total_conversion\n",
       "0      convert              5018\n",
       "1  not_convert              4982"
      ]
     },
     "execution_count": 539,
     "metadata": {},
     "output_type": "execute_result"
    }
   ],
   "source": [
    "conversion_total"
   ]
  },
  {
   "cell_type": "code",
   "execution_count": 541,
   "id": "f617bc24",
   "metadata": {},
   "outputs": [
    {
     "data": {
      "image/png": "[encoded data removed]",
      "text/plain": [
       "<Figure size 640x480 with 1 Axes>"
      ]
     },
     "metadata": {},
     "output_type": "display_data"
    },
    {
     "data": {
      "text/plain": [
       "<ggplot: (8769085497417)>"
      ]
     },
     "execution_count": 541,
     "metadata": {},
     "output_type": "execute_result"
    }
   ],
   "source": [
    "(ggplot(conversion_total, aes(x='conversion', y='total_conversion'))\n",
    " + geom_col(stat = 'identity') + ggtitle('Bar chart of Total Conversion and non-conversion') + theme_light()\n",
    ")"
   ]
  },
  {
   "cell_type": "markdown",
   "id": "3d5f94da",
   "metadata": {},
   "source": [
    "### Estimating C1\n",
    "After estimating conversion and non-conversion, C1 needs to be estimated. This can be considered as one of the major KPI for the period. \n",
    "\n",
    "#### C1 formula\n",
    "С1 = [N of contracts signed] / [N of Demo requests]"
   ]
  },
  {
   "cell_type": "code",
   "execution_count": 544,
   "id": "70fdc06a",
   "metadata": {},
   "outputs": [
    {
     "data": {
      "text/plain": [
       "10000"
      ]
     },
     "execution_count": 544,
     "metadata": {},
     "output_type": "execute_result"
    }
   ],
   "source": [
    "## The [N of Demo requests] is estimated below\n",
    "\n",
    "request_total = conversion_total['total_conversion'].sum()\n",
    "request_total"
   ]
  },
  {
   "cell_type": "code",
   "execution_count": 216,
   "id": "799510ab",
   "metadata": {},
   "outputs": [
    {
     "data": {
      "text/html": [
       "<div>\n",
       "<style scoped>\n",
       "    .dataframe tbody tr th:only-of-type {\n",
       "        vertical-align: middle;\n",
       "    }\n",
       "\n",
       "    .dataframe tbody tr th {\n",
       "        vertical-align: top;\n",
       "    }\n",
       "\n",
       "    .dataframe thead th {\n",
       "        text-align: right;\n",
       "    }\n",
       "</style>\n",
       "<table border=\"1\" class=\"dataframe\">\n",
       "  <thead>\n",
       "    <tr style=\"text-align: right;\">\n",
       "      <th></th>\n",
       "      <th>C1</th>\n",
       "    </tr>\n",
       "  </thead>\n",
       "  <tbody>\n",
       "    <tr>\n",
       "      <th>0</th>\n",
       "      <td>0.5018</td>\n",
       "    </tr>\n",
       "  </tbody>\n",
       "</table>\n",
       "</div>"
      ],
      "text/plain": [
       "       C1\n",
       "0  0.5018"
      ]
     },
     "execution_count": 216,
     "metadata": {},
     "output_type": "execute_result"
    }
   ],
   "source": [
    "## C1 \n",
    "C1 = conversion_total.iloc[[0],[1]] / request_total\n",
    "C1\n",
    "C1.rename(index=str, columns={\"total_conversion\": \"C1\"})\n"
   ]
  },
  {
   "cell_type": "markdown",
   "id": "cdb5709d",
   "metadata": {},
   "source": [
    "#### Thus, C1 is estimated to be 0.5018.\n",
    "\n",
    "It is concluded that conversion rate in percentage terms if 50.2%\n",
    "\n"
   ]
  },
  {
   "cell_type": "markdown",
   "id": "86121471",
   "metadata": {},
   "source": [
    "#### Disaagregating conversion for indepth analysis\n",
    "In order to better understand conversion, there is the need to explore the data based on certain dimensions. \n"
   ]
  },
  {
   "cell_type": "code",
   "execution_count": 558,
   "id": "9194c309",
   "metadata": {},
   "outputs": [
    {
     "data": {
      "text/html": [
       "<div>\n",
       "<style scoped>\n",
       "    .dataframe tbody tr th:only-of-type {\n",
       "        vertical-align: middle;\n",
       "    }\n",
       "\n",
       "    .dataframe tbody tr th {\n",
       "        vertical-align: top;\n",
       "    }\n",
       "\n",
       "    .dataframe thead th {\n",
       "        text-align: right;\n",
       "    }\n",
       "</style>\n",
       "<table border=\"1\" class=\"dataframe\">\n",
       "  <thead>\n",
       "    <tr style=\"text-align: right;\">\n",
       "      <th></th>\n",
       "      <th>company_group</th>\n",
       "      <th>conversion</th>\n",
       "      <th>total_count</th>\n",
       "    </tr>\n",
       "  </thead>\n",
       "  <tbody>\n",
       "    <tr>\n",
       "      <th>0</th>\n",
       "      <td>Others</td>\n",
       "      <td>convert</td>\n",
       "      <td>2446</td>\n",
       "    </tr>\n",
       "    <tr>\n",
       "      <th>1</th>\n",
       "      <td>Others</td>\n",
       "      <td>not_convert</td>\n",
       "      <td>2470</td>\n",
       "    </tr>\n",
       "    <tr>\n",
       "      <th>2</th>\n",
       "      <td>company_A</td>\n",
       "      <td>convert</td>\n",
       "      <td>1027</td>\n",
       "    </tr>\n",
       "    <tr>\n",
       "      <th>3</th>\n",
       "      <td>company_A</td>\n",
       "      <td>not_convert</td>\n",
       "      <td>1039</td>\n",
       "    </tr>\n",
       "    <tr>\n",
       "      <th>4</th>\n",
       "      <td>company_B</td>\n",
       "      <td>convert</td>\n",
       "      <td>1545</td>\n",
       "    </tr>\n",
       "    <tr>\n",
       "      <th>5</th>\n",
       "      <td>company_B</td>\n",
       "      <td>not_convert</td>\n",
       "      <td>1473</td>\n",
       "    </tr>\n",
       "  </tbody>\n",
       "</table>\n",
       "</div>"
      ],
      "text/plain": [
       "  company_group   conversion  total_count\n",
       "0        Others      convert         2446\n",
       "1        Others  not_convert         2470\n",
       "2     company_A      convert         1027\n",
       "3     company_A  not_convert         1039\n",
       "4     company_B      convert         1545\n",
       "5     company_B  not_convert         1473"
      ]
     },
     "execution_count": 558,
     "metadata": {},
     "output_type": "execute_result"
    }
   ],
   "source": [
    "### group data based on company type and count total conversion for eash \n",
    "company_conversion = df_dplyselect >> siuba.group_by(_.company_group, _.conversion) >> siuba.summarize(total_count = _.conversion.count())\n",
    "company_conversion\n"
   ]
  },
  {
   "cell_type": "code",
   "execution_count": 586,
   "id": "0e07356a",
   "metadata": {},
   "outputs": [
    {
     "data": {
      "image/png": "[encoded data removed]",
      "text/plain": [
       "<Figure size 640x480 with 1 Axes>"
      ]
     },
     "metadata": {},
     "output_type": "display_data"
    },
    {
     "data": {
      "text/plain": [
       "<ggplot: (8769085522255)>"
      ]
     },
     "execution_count": 586,
     "metadata": {},
     "output_type": "execute_result"
    }
   ],
   "source": [
    "(ggplot(company_conversion, aes(x='company_group', y='total_count', fill='conversion'))\n",
    " + geom_col(stat='identity', position='dodge')) + theme_dark() + ggtitle('Conversion based on type of company')"
   ]
  },
  {
   "cell_type": "markdown",
   "id": "1a4ebc95",
   "metadata": {},
   "source": [
    "#### From our research questions and hypothesis, conversion based on sales script type is will offer valuable insight hence the data is grouped and conversion is estimated and visualized for the different sales group before testing their hypothesis further."
   ]
  },
  {
   "cell_type": "code",
   "execution_count": 560,
   "id": "7a0efe2b",
   "metadata": {},
   "outputs": [
    {
     "data": {
      "text/html": [
       "<div>\n",
       "<style scoped>\n",
       "    .dataframe tbody tr th:only-of-type {\n",
       "        vertical-align: middle;\n",
       "    }\n",
       "\n",
       "    .dataframe tbody tr th {\n",
       "        vertical-align: top;\n",
       "    }\n",
       "\n",
       "    .dataframe thead th {\n",
       "        text-align: right;\n",
       "    }\n",
       "</style>\n",
       "<table border=\"1\" class=\"dataframe\">\n",
       "  <thead>\n",
       "    <tr style=\"text-align: right;\">\n",
       "      <th></th>\n",
       "      <th>sales_script_type</th>\n",
       "      <th>conversion</th>\n",
       "      <th>total_conversion</th>\n",
       "    </tr>\n",
       "  </thead>\n",
       "  <tbody>\n",
       "    <tr>\n",
       "      <th>0</th>\n",
       "      <td>script_A</td>\n",
       "      <td>convert</td>\n",
       "      <td>3320</td>\n",
       "    </tr>\n",
       "    <tr>\n",
       "      <th>1</th>\n",
       "      <td>script_A</td>\n",
       "      <td>not_convert</td>\n",
       "      <td>3237</td>\n",
       "    </tr>\n",
       "    <tr>\n",
       "      <th>2</th>\n",
       "      <td>script_B</td>\n",
       "      <td>convert</td>\n",
       "      <td>1638</td>\n",
       "    </tr>\n",
       "    <tr>\n",
       "      <th>3</th>\n",
       "      <td>script_B</td>\n",
       "      <td>not_convert</td>\n",
       "      <td>1692</td>\n",
       "    </tr>\n",
       "    <tr>\n",
       "      <th>4</th>\n",
       "      <td>script_C</td>\n",
       "      <td>convert</td>\n",
       "      <td>60</td>\n",
       "    </tr>\n",
       "    <tr>\n",
       "      <th>5</th>\n",
       "      <td>script_C</td>\n",
       "      <td>not_convert</td>\n",
       "      <td>53</td>\n",
       "    </tr>\n",
       "  </tbody>\n",
       "</table>\n",
       "</div>"
      ],
      "text/plain": [
       "  sales_script_type   conversion  total_conversion\n",
       "0          script_A      convert              3320\n",
       "1          script_A  not_convert              3237\n",
       "2          script_B      convert              1638\n",
       "3          script_B  not_convert              1692\n",
       "4          script_C      convert                60\n",
       "5          script_C  not_convert                53"
      ]
     },
     "execution_count": 560,
     "metadata": {},
     "output_type": "execute_result"
    }
   ],
   "source": [
    "## group data based on type of sales script and count total conversion \n",
    "script_conversion = (df_dplyselect\n",
    " >> siuba.group_by(_.sales_script_type, _.conversion)\n",
    ">> siuba.summarize(total_conversion = _.conversion.count())\n",
    ")\n",
    "\n",
    "script_conversion"
   ]
  },
  {
   "cell_type": "markdown",
   "id": "ff2c58f4",
   "metadata": {},
   "source": [
    "#####\n",
    "The result of the table can be visualize below\n",
    "\n"
   ]
  },
  {
   "cell_type": "code",
   "execution_count": 561,
   "id": "1a2e4369",
   "metadata": {},
   "outputs": [
    {
     "data": {
      "image/png": "[encoded data removed]",
      "text/plain": [
       "<Figure size 640x480 with 1 Axes>"
      ]
     },
     "metadata": {},
     "output_type": "display_data"
    },
    {
     "data": {
      "text/plain": [
       "<ggplot: (8769085181730)>"
      ]
     },
     "execution_count": 561,
     "metadata": {},
     "output_type": "execute_result"
    }
   ],
   "source": [
    "### Plot the total conversion based on script type\n",
    "\n",
    "(ggplot(script_conversion, aes(x='sales_script_type', y='total_conversion', fill='conversion'))\n",
    " + geom_col(stat='identity', position='dodge')) + theme_dark() + ggtitle('Conversion based on type of sales script')"
   ]
  },
  {
   "cell_type": "markdown",
   "id": "b9b3ce1b",
   "metadata": {},
   "source": [
    "##### Insights from the visuals\n",
    "Illustrating conversion based on script type shows that both script A and script C made a higher conversion compared to non-conversion. Script A made 83 more conversions than non-conversion while script C made 7 more conversion than non-conversion. On the contrary, script B made 54 less conversions compared to non-conversion.\n",
    "\n",
    "While this difference gives a clue about performance of the various script, it does not enables us to make decisive conclusion but guesses of what the difference could result in. Foreinstance, the total conversion is summation and hence the difference could be the result of number of demo sessions that a script has been used for. Clarity needs to brought to such guessetimates by considering their mean through further analysis\n",
    "\n",
    "In order to make a data driven decision, hypothesis need to be tested to derive better understanding base on statistical significance.\n",
    "\n",
    "\n",
    "\n"
   ]
  },
  {
   "cell_type": "markdown",
   "id": "f471bbb7",
   "metadata": {},
   "source": [
    "### Objective 1\n",
    "\n",
    "To test the hypothesis that there is statistically significant relationship between type of sales script and conversion.\n",
    "\n",
    "Proceeding from the insights gained, this section tests the hypothesis for the first objective\n",
    "\n",
    "H0 Conversion is independent of type of sales script used\n",
    "\n",
    "H1 Conversion is dependent on type of sales script used\n",
    "\n",
    "#### Method of analysis\n",
    "Chi squared test of independence is appropriate for assessing whether there is a relationship between two categorical variable hence used. The procedure involves producing a contigency table and using that for the analysis. This is demonstrated below."
   ]
  },
  {
   "cell_type": "markdown",
   "id": "5b0c81ce",
   "metadata": {},
   "source": [
    "##### Contigency table"
   ]
  },
  {
   "cell_type": "code",
   "execution_count": 563,
   "id": "fd01513e",
   "metadata": {},
   "outputs": [
    {
     "data": {
      "text/html": [
       "<div>\n",
       "<style scoped>\n",
       "    .dataframe tbody tr th:only-of-type {\n",
       "        vertical-align: middle;\n",
       "    }\n",
       "\n",
       "    .dataframe tbody tr th {\n",
       "        vertical-align: top;\n",
       "    }\n",
       "\n",
       "    .dataframe thead th {\n",
       "        text-align: right;\n",
       "    }\n",
       "</style>\n",
       "<table border=\"1\" class=\"dataframe\">\n",
       "  <thead>\n",
       "    <tr style=\"text-align: right;\">\n",
       "      <th>conversion</th>\n",
       "      <th>convert</th>\n",
       "      <th>not_convert</th>\n",
       "    </tr>\n",
       "    <tr>\n",
       "      <th>sales_script_type</th>\n",
       "      <th></th>\n",
       "      <th></th>\n",
       "    </tr>\n",
       "  </thead>\n",
       "  <tbody>\n",
       "    <tr>\n",
       "      <th>script_A</th>\n",
       "      <td>3320</td>\n",
       "      <td>3237</td>\n",
       "    </tr>\n",
       "    <tr>\n",
       "      <th>script_B</th>\n",
       "      <td>1638</td>\n",
       "      <td>1692</td>\n",
       "    </tr>\n",
       "    <tr>\n",
       "      <th>script_C</th>\n",
       "      <td>60</td>\n",
       "      <td>53</td>\n",
       "    </tr>\n",
       "  </tbody>\n",
       "</table>\n",
       "</div>"
      ],
      "text/plain": [
       "conversion         convert  not_convert\n",
       "sales_script_type                      \n",
       "script_A              3320         3237\n",
       "script_B              1638         1692\n",
       "script_C                60           53"
      ]
     },
     "execution_count": 563,
     "metadata": {},
     "output_type": "execute_result"
    }
   ],
   "source": [
    "## contigency table between sales script type and conversion\n",
    "\n",
    "conversion_script_type_contengency = pd.crosstab(df_dplyselect['sales_script_type'], df_dplyselect['conversion'])\n",
    "\n",
    "conversion_script_type_contengency\n"
   ]
  },
  {
   "cell_type": "code",
   "execution_count": 574,
   "id": "306518f8",
   "metadata": {},
   "outputs": [
    {
     "name": "stdout",
     "output_type": "stream",
     "text": [
      "\n",
      "Chi-squared test for independence\n",
      "\n",
      "Test              Df    Chi-square    P-value\n",
      "--------------  ----  ------------  ---------\n",
      "Pearson            2       2.23037   0.327855\n",
      "Log-likelihood     2       2.23068   0.327804\n",
      "\n"
     ]
    }
   ],
   "source": [
    "### chi-square test of independence\n",
    "chi_square_result = stat()\n",
    "\n",
    "chi_square_result.chisq(df=conversion_script_type_contengency)\n",
    "\n",
    "print(chi_square_result.summary)\n",
    "\n"
   ]
  },
  {
   "cell_type": "markdown",
   "id": "8f7703af",
   "metadata": {},
   "source": [
    "### Results for objective one\n",
    "\n",
    "With a p-value of 0.3279 being greater than 0.05 (5% significance level), it is\n",
    "suggested that there is no statistically significant relationship between type of sales script and\n",
    "conversion. Thus, we fail to reject the null hypothesis of independence based on available evidence.\n",
    "\n",
    "This result has an added twist to it, which is that, there is the possibility of a change in result when more and better data is acquired.\n",
    "\n",
    "\n",
    "A major research gap that remains is whether the differences in conversion between scripts as deduced from the bar plots is significant. This requires the need to test another hypothesis hence research objective 2.\n"
   ]
  },
  {
   "cell_type": "markdown",
   "id": "96f69318",
   "metadata": {},
   "source": [
    "### Research objective 2: To test the hypothesis that difference in mean conversion among sales script are equal\n",
    "\n",
    "In order to test this hypothesis, there is the need to have continuous varaible. For this, the total number of conversions on daily basis can analyzed and used as a continuous variable. The rational for estimating daily total conversions instead of monthly or yearly is to ensure that there are enough data points to make statistical inference.\n",
    "\n",
    "The available data covers only a year and a couple of days, hence daily conversions is a logical timeframe for estimating total conversion. \n",
    "\n",
    "By this, the dataset needs to be grouped based on days and the sum of conversions estimated for each sales script type. The question that arise is how are the conversions to be counted? For this, 'is_signed' variable is used; where its boolean data type (true or false) are treated as intergers with 1 counted as a single conversion and 0 as no conversion for each demo session. This allows for the total daily conversion to be estimated.\n",
    "\n",
    "Another question is, which of the dates should be used as a basis for counting the total daily conversion? For this, the demo_appointment_datetime variable was used. This is based on the context that 'during and after the demo session, the sales manager tries to convert the potential client into a contract signing' hence the assumption that the impact of the script used on conversion came into effect on the demo appointment day.\n",
    "\n",
    "\n",
    "It is assummed that the date used will be of less relevance for testing the hypothesis despite there could changes in the total number of daily conversion for scripts when the date is change. But the impact is assummed to be negligible and again, less relevant to some extent. \n",
    "\n",
    "###### Key assumption\n",
    "1. The assumption was made that all sales scripts had equal chance of being used during a demo session. \n",
    "\n",
    "2. There were no cases of repeated sessions where scripts were used again.\n"
   ]
  },
  {
   "cell_type": "code",
   "execution_count": 570,
   "id": "33db10f8",
   "metadata": {},
   "outputs": [
    {
     "data": {
      "text/html": [
       "<div>\n",
       "<style scoped>\n",
       "    .dataframe tbody tr th:only-of-type {\n",
       "        vertical-align: middle;\n",
       "    }\n",
       "\n",
       "    .dataframe tbody tr th {\n",
       "        vertical-align: top;\n",
       "    }\n",
       "\n",
       "    .dataframe thead th {\n",
       "        text-align: right;\n",
       "    }\n",
       "</style>\n",
       "<table border=\"1\" class=\"dataframe\">\n",
       "  <thead>\n",
       "    <tr style=\"text-align: right;\">\n",
       "      <th></th>\n",
       "      <th>demo_appointment_yyyymmdd</th>\n",
       "      <th>sales_script_type</th>\n",
       "      <th>total_conversion</th>\n",
       "    </tr>\n",
       "  </thead>\n",
       "  <tbody>\n",
       "    <tr>\n",
       "      <th>0</th>\n",
       "      <td>2019-12-28</td>\n",
       "      <td>script_A</td>\n",
       "      <td>0</td>\n",
       "    </tr>\n",
       "    <tr>\n",
       "      <th>1</th>\n",
       "      <td>2019-12-28</td>\n",
       "      <td>script_B</td>\n",
       "      <td>2</td>\n",
       "    </tr>\n",
       "    <tr>\n",
       "      <th>2</th>\n",
       "      <td>2019-12-29</td>\n",
       "      <td>script_A</td>\n",
       "      <td>0</td>\n",
       "    </tr>\n",
       "    <tr>\n",
       "      <th>3</th>\n",
       "      <td>2019-12-29</td>\n",
       "      <td>script_B</td>\n",
       "      <td>1</td>\n",
       "    </tr>\n",
       "    <tr>\n",
       "      <th>4</th>\n",
       "      <td>2019-12-30</td>\n",
       "      <td>script_B</td>\n",
       "      <td>1</td>\n",
       "    </tr>\n",
       "  </tbody>\n",
       "</table>\n",
       "</div>"
      ],
      "text/plain": [
       "  demo_appointment_yyyymmdd sales_script_type  total_conversion\n",
       "0                2019-12-28          script_A                 0\n",
       "1                2019-12-28          script_B                 2\n",
       "2                2019-12-29          script_A                 0\n",
       "3                2019-12-29          script_B                 1\n",
       "4                2019-12-30          script_B                 1"
      ]
     },
     "execution_count": 570,
     "metadata": {},
     "output_type": "execute_result"
    }
   ],
   "source": [
    "### select various columns and split the demo appointment column into date and time\n",
    "df_grp = (df >> siuba.select(_.demo_appointment_datetime, _.request_to_1streach_timelength_minutes_, \n",
    "                  _.conversion, _.company_group, _.sales_script_type, _.is_signed)>>\n",
    "siuba.separate(col = _.demo_appointment_datetime, sep = ' ', into = ('demo_appointment_yyyymmdd', \n",
    "                                                                     'demo_appointment_hhmmss')) >>\n",
    " siuba.group_by(_.demo_appointment_yyyymmdd, _.sales_script_type)\n",
    ")\n",
    "\n",
    "## sum the total conversion for each script on each day\n",
    "df_grp_sum = df_grp >> siuba.summarize(total_conversion = _.is_signed.sum())\n",
    "df_grp_sum.head(5)"
   ]
  },
  {
   "cell_type": "markdown",
   "id": "e41446d7",
   "metadata": {},
   "source": [
    "#### Visualizing the total conversion on demo day for the various scripts\n",
    "\n",
    "First, the distribution of total conversion based on sales script is visualized using boxplot which shows the mean conversion for sales scripts as well as the minimum, 25th quartile, 75th quartile and maximum. \n"
   ]
  },
  {
   "cell_type": "code",
   "execution_count": 310,
   "id": "c1c5f68f",
   "metadata": {},
   "outputs": [
    {
     "data": {
      "image/png": "[encoded data removed]",
      "text/plain": [
       "<Figure size 640x480 with 1 Axes>"
      ]
     },
     "metadata": {},
     "output_type": "display_data"
    },
    {
     "data": {
      "text/plain": [
       "<ggplot: (8769078937661)>"
      ]
     },
     "execution_count": 310,
     "metadata": {},
     "output_type": "execute_result"
    }
   ],
   "source": [
    "\n",
    "(ggplot(data = df_grp_sum, mapping = aes(x = 'sales_script_type', y = 'total_conversion'))+ geom_boxplot() + \n",
    " ggtitle('Total conversion by script type (based on conversion counts of demo day)')) \n",
    "\n",
    "\n",
    "\n",
    "\n",
    "\n"
   ]
  },
  {
   "cell_type": "markdown",
   "id": "f3e2ca0f",
   "metadata": {},
   "source": [
    "#### Insights from boxplot of total conversions based on demo date \n",
    "\n",
    "From the boxplot, some points which are outside the normal range of the plot can be regarded as outliers. However, they are not remove for now. Moreover the difference in conversion between scripts is clearer with the boxplot. It is deduced that script C has the lowest average conversion while script A has the highest.\n"
   ]
  },
  {
   "cell_type": "markdown",
   "id": "344a29fa",
   "metadata": {},
   "source": [
    "#### Visual inspection: Testing statistical assumptions for the analysis of hypothesis\n",
    "\n",
    "Before deciding on the statistical method to use to answer the business questions, there is the need to verify that statistical assumptions hold true for the data. For valid statistical inference to be made about our target market based on our current of clients it is very important that appropriate methods are used. The appropriateness of the method is not a guesswork but one informed from both visual and statistical test. \n",
    "\n",
    "\n",
    "Generally, there are two family of statistical techniques that can be employed in analyzing the data. Namely, Parametric and non-parametric methods. The parametric methods usually have a greater statistical power but this comes at the cost of requiring the data to meet a number of assumptions for proper insights to be gain. Given that, our aim is to present the possible best solution, the assumptions for using a parametric method are tested first before considering their use or otherwise.\n",
    "\n",
    "#### Visual inspection of normality \n",
    "\n",
    "To use a parametric method, normality of data distribution of is assummed. A simple approach to verifying this is with the aid of histogram\n",
    "\n",
    "\n",
    "\n"
   ]
  },
  {
   "cell_type": "code",
   "execution_count": 360,
   "id": "34a42806",
   "metadata": {},
   "outputs": [
    {
     "data": {
      "text/plain": [
       "<AxesSubplot:xlabel='total_conversion', ylabel='Count'>"
      ]
     },
     "execution_count": 360,
     "metadata": {},
     "output_type": "execute_result"
    },
    {
     "data": {
      "image/png": "[encoded data removed]",
      "text/plain": [
       "<Figure size 432x288 with 1 Axes>"
      ]
     },
     "metadata": {
      "needs_background": "light"
     },
     "output_type": "display_data"
    }
   ],
   "source": [
    "sns.histplot(df_grp_sum['total_conversion'], bins=20, kde=True, color='g')"
   ]
  },
  {
   "cell_type": "markdown",
   "id": "2dda19b3",
   "metadata": {},
   "source": [
    "#### Results of the histogram\n",
    "\n",
    "The histogram plotted above does not necessarily answer the question on normality assumption. Nonetheless, it is one of several visualization techniques that gives clues. \n",
    "\n",
    "From visual inspection, the distribution is right-tailed hence a right-skewed or positive-skewed distribution. \n"
   ]
  },
  {
   "cell_type": "markdown",
   "id": "ca42d20e",
   "metadata": {},
   "source": [
    "### Q-Q plot for visualizing normality\n",
    "In order to gain a better view on the normality of the distribution, a Q-Q plot is use to compare actual total conversion to an expected value in a normal distribution. The yardstick for detecting normality will be to verify that the actual data distriubtion are linearly along a straignt 45 degrees diagonal line. The result is illustrated below.\n"
   ]
  },
  {
   "cell_type": "code",
   "execution_count": 571,
   "id": "f9f960b7",
   "metadata": {},
   "outputs": [
    {
     "data": {
      "image/png": "[encoded data removed]",
      "text/plain": [
       "<Figure size 432x288 with 1 Axes>"
      ]
     },
     "metadata": {
      "needs_background": "light"
     },
     "output_type": "display_data"
    }
   ],
   "source": [
    "### QQ-PLOT\n",
    "sm.qqplot(df_grp_sum['total_conversion'], line = '45')\n",
    "\n",
    "plt.title('Q-Q plot for total conversion')\n",
    "plt.show()"
   ]
  },
  {
   "cell_type": "markdown",
   "id": "469064ed",
   "metadata": {},
   "source": [
    "### Insights from Q-Q plot\n",
    "\n",
    "From the Q-Q plot, it is deduced that the dataset deviates from the line of expected normal distribution hence heavily skewed. While the visualization so far points to the direction of a non-normal distribution, there is still the opportunity to cross-check these suggestions with some statistically test for normality. \n"
   ]
  },
  {
   "cell_type": "markdown",
   "id": "df70b605",
   "metadata": {},
   "source": [
    "### Statistically test for normality:  Shapiro-Wilk test of normality\n",
    "\n",
    "The visual inspections are supported with Shapiro-Wilk test to test the hypothesis that the distribution of data is not different from an expected normal distribution. "
   ]
  },
  {
   "cell_type": "code",
   "execution_count": 371,
   "id": "d0a48801",
   "metadata": {},
   "outputs": [
    {
     "name": "stdout",
     "output_type": "stream",
     "text": [
      "0.9258275032043457 2.6858449476433106e-20\n"
     ]
    }
   ],
   "source": [
    "#### Shapiro-Wilk test\n",
    "\n",
    "w, pvalue = stats.shapiro(df_grp_sum['total_conversion'])\n",
    "print(w, pvalue)\n",
    "\n",
    "\n",
    "#w, pvalue = stats.shapiro(script_anova.anova_model_out.resid)\n",
    "#print(w, pvalue)"
   ]
  },
  {
   "cell_type": "markdown",
   "id": "98876055",
   "metadata": {},
   "source": [
    "#### Calculating normality\n",
    "\n",
    "This another approach is to assessing normality using the pingouin module."
   ]
  },
  {
   "cell_type": "code",
   "execution_count": 387,
   "id": "2792ac08",
   "metadata": {
    "scrolled": true
   },
   "outputs": [
    {
     "data": {
      "text/html": [
       "<div>\n",
       "<style scoped>\n",
       "    .dataframe tbody tr th:only-of-type {\n",
       "        vertical-align: middle;\n",
       "    }\n",
       "\n",
       "    .dataframe tbody tr th {\n",
       "        vertical-align: top;\n",
       "    }\n",
       "\n",
       "    .dataframe thead th {\n",
       "        text-align: right;\n",
       "    }\n",
       "</style>\n",
       "<table border=\"1\" class=\"dataframe\">\n",
       "  <thead>\n",
       "    <tr style=\"text-align: right;\">\n",
       "      <th></th>\n",
       "      <th>W</th>\n",
       "      <th>pval</th>\n",
       "      <th>normal</th>\n",
       "    </tr>\n",
       "  </thead>\n",
       "  <tbody>\n",
       "    <tr>\n",
       "      <th>script_A</th>\n",
       "      <td>0.977832</td>\n",
       "      <td>8.848897e-06</td>\n",
       "      <td>False</td>\n",
       "    </tr>\n",
       "    <tr>\n",
       "      <th>script_B</th>\n",
       "      <td>0.960671</td>\n",
       "      <td>1.573736e-08</td>\n",
       "      <td>False</td>\n",
       "    </tr>\n",
       "    <tr>\n",
       "      <th>script_C</th>\n",
       "      <td>0.745857</td>\n",
       "      <td>1.854471e-11</td>\n",
       "      <td>False</td>\n",
       "    </tr>\n",
       "  </tbody>\n",
       "</table>\n",
       "</div>"
      ],
      "text/plain": [
       "                 W          pval  normal\n",
       "script_A  0.977832  8.848897e-06   False\n",
       "script_B  0.960671  1.573736e-08   False\n",
       "script_C  0.745857  1.854471e-11   False"
      ]
     },
     "execution_count": 387,
     "metadata": {},
     "output_type": "execute_result"
    }
   ],
   "source": [
    "pg.normality(df_grp_sum, group='sales_script_type', dv='total_conversion')"
   ]
  },
  {
   "cell_type": "markdown",
   "id": "8a4b753f",
   "metadata": {},
   "source": [
    "#### Insight from Shapiro-Wilk test of normality\n",
    "\n",
    "The p-value of the test is less than 0.05 (5% significance level) which suggests a statistically significant difference from a normal distribution. Thus, the null hypothesis is rejected. This is not one of the relevant hypothesis to be tested for our products but its gives us an important clue as to the right statistical method to adopt for assessing our business relevant hypothesis.\n",
    "\n",
    "With the data failing to meet the assumption of normal distribution required for the adoption of a parametric method, the compass of the analysis is gearing towards a non-parametric method. But before ascertaining that, there is the need to test for other assumptions required such as homogeneity which stipulates that variance between categories to analyzed should be equal across the data distribution for methods such ANOVA to be properly use. \n"
   ]
  },
  {
   "cell_type": "markdown",
   "id": "c3d26da8",
   "metadata": {},
   "source": [
    "### Statistical test for homogeneity\n",
    "#### Bartlett’s test \n",
    "\n",
    "The first approach being used to test for equal variance in the distribution is the Bartlett's test. Given that the distribution is non-normal, Barlett's test is supported with Levene's test which is a much more robust test when the data is not a normal distribution.\n",
    "\n"
   ]
  },
  {
   "cell_type": "code",
   "execution_count": 372,
   "id": "ba0fb969",
   "metadata": {},
   "outputs": [
    {
     "data": {
      "text/html": [
       "<div>\n",
       "<style scoped>\n",
       "    .dataframe tbody tr th:only-of-type {\n",
       "        vertical-align: middle;\n",
       "    }\n",
       "\n",
       "    .dataframe tbody tr th {\n",
       "        vertical-align: top;\n",
       "    }\n",
       "\n",
       "    .dataframe thead th {\n",
       "        text-align: right;\n",
       "    }\n",
       "</style>\n",
       "<table border=\"1\" class=\"dataframe\">\n",
       "  <thead>\n",
       "    <tr style=\"text-align: right;\">\n",
       "      <th></th>\n",
       "      <th>Parameter</th>\n",
       "      <th>Value</th>\n",
       "    </tr>\n",
       "  </thead>\n",
       "  <tbody>\n",
       "    <tr>\n",
       "      <th>0</th>\n",
       "      <td>Test statistics (T)</td>\n",
       "      <td>425.8573</td>\n",
       "    </tr>\n",
       "    <tr>\n",
       "      <th>1</th>\n",
       "      <td>Degrees of freedom (Df)</td>\n",
       "      <td>2.0000</td>\n",
       "    </tr>\n",
       "    <tr>\n",
       "      <th>2</th>\n",
       "      <td>p value</td>\n",
       "      <td>0.0000</td>\n",
       "    </tr>\n",
       "  </tbody>\n",
       "</table>\n",
       "</div>"
      ],
      "text/plain": [
       "                 Parameter     Value\n",
       "0      Test statistics (T)  425.8573\n",
       "1  Degrees of freedom (Df)    2.0000\n",
       "2                  p value    0.0000"
      ]
     },
     "execution_count": 372,
     "metadata": {},
     "output_type": "execute_result"
    }
   ],
   "source": [
    "### bartlett's test for homogeneity\n",
    "script_bartlett = stat()\n",
    "script_bartlett.bartlett(df = df_grp_sum, res_var = 'total_conversion', xfac_var = 'sales_script_type')\n",
    "script_bartlett.bartlett_summary"
   ]
  },
  {
   "cell_type": "markdown",
   "id": "e30c5c66",
   "metadata": {},
   "source": [
    "##### Insight from the Bartlett's test\n",
    "The bartlett test result shows a p-value that is statistically significant hence the hypothesis that variation in the distribution is equal is rejected. This points in the direction of a non-parametric approach for the analysis but before then the result needs to be verified with a Levene's test."
   ]
  },
  {
   "cell_type": "markdown",
   "id": "edb1a440",
   "metadata": {},
   "source": [
    "### Levene's statistical test for homogeneity\n",
    "\n",
    "Levene's test is employed as a final approach in this context to verify whether not the variance in the data is equal.\n",
    "\n",
    "\n",
    "\n"
   ]
  },
  {
   "cell_type": "code",
   "execution_count": 572,
   "id": "5307063d",
   "metadata": {},
   "outputs": [
    {
     "data": {
      "text/html": [
       "<div>\n",
       "<style scoped>\n",
       "    .dataframe tbody tr th:only-of-type {\n",
       "        vertical-align: middle;\n",
       "    }\n",
       "\n",
       "    .dataframe tbody tr th {\n",
       "        vertical-align: top;\n",
       "    }\n",
       "\n",
       "    .dataframe thead th {\n",
       "        text-align: right;\n",
       "    }\n",
       "</style>\n",
       "<table border=\"1\" class=\"dataframe\">\n",
       "  <thead>\n",
       "    <tr style=\"text-align: right;\">\n",
       "      <th></th>\n",
       "      <th>Parameter</th>\n",
       "      <th>Value</th>\n",
       "    </tr>\n",
       "  </thead>\n",
       "  <tbody>\n",
       "    <tr>\n",
       "      <th>0</th>\n",
       "      <td>Test statistics (W)</td>\n",
       "      <td>119.2498</td>\n",
       "    </tr>\n",
       "    <tr>\n",
       "      <th>1</th>\n",
       "      <td>Degrees of freedom (Df)</td>\n",
       "      <td>2.0000</td>\n",
       "    </tr>\n",
       "    <tr>\n",
       "      <th>2</th>\n",
       "      <td>p value</td>\n",
       "      <td>0.0000</td>\n",
       "    </tr>\n",
       "  </tbody>\n",
       "</table>\n",
       "</div>"
      ],
      "text/plain": [
       "                 Parameter     Value\n",
       "0      Test statistics (W)  119.2498\n",
       "1  Degrees of freedom (Df)    2.0000\n",
       "2                  p value    0.0000"
      ]
     },
     "execution_count": 572,
     "metadata": {},
     "output_type": "execute_result"
    }
   ],
   "source": [
    "## levene test\n",
    "script_lev = stat()\n",
    "script_lev.levene(df = df_grp_sum, res_var='total_conversion', xfac_var = 'sales_script_type')\n",
    "script_lev.levene_summary\n",
    "\n"
   ]
  },
  {
   "cell_type": "code",
   "execution_count": 573,
   "id": "4cd8deff",
   "metadata": {},
   "outputs": [
    {
     "data": {
      "text/html": [
       "<div>\n",
       "<style scoped>\n",
       "    .dataframe tbody tr th:only-of-type {\n",
       "        vertical-align: middle;\n",
       "    }\n",
       "\n",
       "    .dataframe tbody tr th {\n",
       "        vertical-align: top;\n",
       "    }\n",
       "\n",
       "    .dataframe thead th {\n",
       "        text-align: right;\n",
       "    }\n",
       "</style>\n",
       "<table border=\"1\" class=\"dataframe\">\n",
       "  <thead>\n",
       "    <tr style=\"text-align: right;\">\n",
       "      <th></th>\n",
       "      <th>W</th>\n",
       "      <th>pval</th>\n",
       "      <th>equal_var</th>\n",
       "    </tr>\n",
       "  </thead>\n",
       "  <tbody>\n",
       "    <tr>\n",
       "      <th>levene</th>\n",
       "      <td>119.249752</td>\n",
       "      <td>1.772745e-46</td>\n",
       "      <td>False</td>\n",
       "    </tr>\n",
       "  </tbody>\n",
       "</table>\n",
       "</div>"
      ],
      "text/plain": [
       "                 W          pval  equal_var\n",
       "levene  119.249752  1.772745e-46      False"
      ]
     },
     "execution_count": 573,
     "metadata": {},
     "output_type": "execute_result"
    }
   ],
   "source": [
    "### Usingthe pingouin module for the analysis\n",
    "\n",
    "pg.homoscedasticity(df_grp_sum, group='sales_script_type', dv='total_conversion')"
   ]
  },
  {
   "cell_type": "markdown",
   "id": "2058f86a",
   "metadata": {},
   "source": [
    "### Insight from Levene's test\n",
    "The levene's test depict an unequal variance with a statistical significant p-value < 0.05 (at 5% significant level) hence confirming Bartlett's test.\n",
    "\n",
    "\n",
    "\n",
    "## Conclusion drawn from testing of statistical assumptions\n",
    "\n",
    "With visual inspections and all statistically tests indicating the data has a non-normal distribution and variance of values are unequal, the statistical approach adopted for testing the various relevant hypothesis devised is a non-parametric one. \n",
    "\n"
   ]
  },
  {
   "cell_type": "markdown",
   "id": "8a2d77a9",
   "metadata": {},
   "source": [
    "## Kruskal-Wallis test\n",
    "\n",
    "After finally deciding on the type of statiscal approach to adopt, a selection is made among several non-parametric methods. For this, consideration is given to the number of categories or groupings in the independent variable. Three types of sales scripts were identified in the datset hence the decision to use \n",
    "Kruskal-Wallis test for the analysis of the second objective.\n"
   ]
  },
  {
   "cell_type": "code",
   "execution_count": 376,
   "id": "d4c0466b",
   "metadata": {},
   "outputs": [
    {
     "data": {
      "text/html": [
       "<div>\n",
       "<style scoped>\n",
       "    .dataframe tbody tr th:only-of-type {\n",
       "        vertical-align: middle;\n",
       "    }\n",
       "\n",
       "    .dataframe tbody tr th {\n",
       "        vertical-align: top;\n",
       "    }\n",
       "\n",
       "    .dataframe thead th {\n",
       "        text-align: right;\n",
       "    }\n",
       "</style>\n",
       "<table border=\"1\" class=\"dataframe\">\n",
       "  <thead>\n",
       "    <tr style=\"text-align: right;\">\n",
       "      <th></th>\n",
       "      <th>Source</th>\n",
       "      <th>ddof1</th>\n",
       "      <th>H</th>\n",
       "      <th>p-unc</th>\n",
       "    </tr>\n",
       "  </thead>\n",
       "  <tbody>\n",
       "    <tr>\n",
       "      <th>Kruskal</th>\n",
       "      <td>sales_script_type</td>\n",
       "      <td>2</td>\n",
       "      <td>338.713092</td>\n",
       "      <td>2.814406e-74</td>\n",
       "    </tr>\n",
       "  </tbody>\n",
       "</table>\n",
       "</div>"
      ],
      "text/plain": [
       "                    Source  ddof1           H         p-unc\n",
       "Kruskal  sales_script_type      2  338.713092  2.814406e-74"
      ]
     },
     "execution_count": 376,
     "metadata": {},
     "output_type": "execute_result"
    }
   ],
   "source": [
    "pg.kruskal(data=df_grp_sum, dv='total_conversion', between='sales_script_type')"
   ]
  },
  {
   "cell_type": "markdown",
   "id": "2653ee98",
   "metadata": {},
   "source": [
    "### Results\n",
    "The p-value from the Kruskal-Wallis test is statistically significant at 5% significant level which suggests the null hypothesis that conversion among the differenct scripts is rejected.\n",
    "\n",
    "\n",
    "\n",
    "### Conclusion on objective 2\n",
    "The objective 2 seeks to test the hypothesis that all sales scripts produce equal conversions without statistically significant difference. The conclusion drawn is to reject this hypothesis. This can be seen as a breakthrough from the exploratory data analysis yet this results equally raise another enquiry. Though, it is now clear that at least one sales script seems to do better than another for conversion, the analysis does not indicate which sales scripts has a higher conversion and how they differ. This calls for further analysis in the form of post-hoc test.\n",
    "\n",
    "\n",
    "\n",
    "### Recommendation on objective 2\n",
    "\n",
    "With the suggestion that sales script donot produce equal conversions, it is recommended that, a deliberate effort is made to choose the script with higher rate of conversion. While this recommendation indicates there is opportunity to prioritize sales scripts for higher conversion, it has not specifically suggested which sales script in particular should be used. To provide such a data driven recommendation, further analysis is required to determine which script should be used to maximize conversion.\n",
    "\n"
   ]
  },
  {
   "cell_type": "markdown",
   "id": "19516606",
   "metadata": {},
   "source": [
    "### Objective 3: To identify which sales script produces higher total conversions on the average\n",
    "\n",
    "Post-hoc test is used to satisfy this objective. It provides a better insight through a pairwise comparison of the significant level of differences in conversion between scripts and further identify which scripts are assosiated with higher conversion.\n"
   ]
  },
  {
   "cell_type": "code",
   "execution_count": 576,
   "id": "30982c80",
   "metadata": {},
   "outputs": [
    {
     "data": {
      "text/html": [
       "<div>\n",
       "<style scoped>\n",
       "    .dataframe tbody tr th:only-of-type {\n",
       "        vertical-align: middle;\n",
       "    }\n",
       "\n",
       "    .dataframe tbody tr th {\n",
       "        vertical-align: top;\n",
       "    }\n",
       "\n",
       "    .dataframe thead th {\n",
       "        text-align: right;\n",
       "    }\n",
       "</style>\n",
       "<table border=\"1\" class=\"dataframe\">\n",
       "  <thead>\n",
       "    <tr style=\"text-align: right;\">\n",
       "      <th></th>\n",
       "      <th>script_A</th>\n",
       "      <th>script_B</th>\n",
       "      <th>script_C</th>\n",
       "    </tr>\n",
       "  </thead>\n",
       "  <tbody>\n",
       "    <tr>\n",
       "      <th>script_A</th>\n",
       "      <td>1.000000e+00</td>\n",
       "      <td>9.195689e-30</td>\n",
       "      <td>5.152029e-66</td>\n",
       "    </tr>\n",
       "    <tr>\n",
       "      <th>script_B</th>\n",
       "      <td>9.195689e-30</td>\n",
       "      <td>1.000000e+00</td>\n",
       "      <td>3.801421e-23</td>\n",
       "    </tr>\n",
       "    <tr>\n",
       "      <th>script_C</th>\n",
       "      <td>5.152029e-66</td>\n",
       "      <td>3.801421e-23</td>\n",
       "      <td>1.000000e+00</td>\n",
       "    </tr>\n",
       "  </tbody>\n",
       "</table>\n",
       "</div>"
      ],
      "text/plain": [
       "              script_A      script_B      script_C\n",
       "script_A  1.000000e+00  9.195689e-30  5.152029e-66\n",
       "script_B  9.195689e-30  1.000000e+00  3.801421e-23\n",
       "script_C  5.152029e-66  3.801421e-23  1.000000e+00"
      ]
     },
     "execution_count": 576,
     "metadata": {},
     "output_type": "execute_result"
    }
   ],
   "source": [
    "### Post-hoc test with Dunn\n",
    "\n",
    "sp.posthoc_dunn(a = df_grp_sum, val_col = 'total_conversion', group_col = 'sales_script_type', p_adjust='bonferroni')\n"
   ]
  },
  {
   "cell_type": "markdown",
   "id": "9af3d780",
   "metadata": {},
   "source": [
    "### Result of post-hoc test of difference in conversion\n",
    "\n",
    "The post-hoc test based on Dunn test indicates that there are significant differences in conversion between all the sales scripts and not just at least one. The p-value for the pairwise difference between all the scripts are statistically significant. The result shown above only captures the p-values and in order discern the difference better, another module is used for the estimation."
   ]
  },
  {
   "cell_type": "code",
   "execution_count": 577,
   "id": "f97600c1",
   "metadata": {},
   "outputs": [
    {
     "data": {
      "text/html": [
       "<div>\n",
       "<style scoped>\n",
       "    .dataframe tbody tr th:only-of-type {\n",
       "        vertical-align: middle;\n",
       "    }\n",
       "\n",
       "    .dataframe tbody tr th {\n",
       "        vertical-align: top;\n",
       "    }\n",
       "\n",
       "    .dataframe thead th {\n",
       "        text-align: right;\n",
       "    }\n",
       "</style>\n",
       "<table border=\"1\" class=\"dataframe\">\n",
       "  <thead>\n",
       "    <tr style=\"text-align: right;\">\n",
       "      <th></th>\n",
       "      <th>Contrast</th>\n",
       "      <th>A</th>\n",
       "      <th>B</th>\n",
       "      <th>mean(A)</th>\n",
       "      <th>std(A)</th>\n",
       "      <th>mean(B)</th>\n",
       "      <th>std(B)</th>\n",
       "      <th>Paired</th>\n",
       "      <th>Parametric</th>\n",
       "      <th>T</th>\n",
       "      <th>dof</th>\n",
       "      <th>alternative</th>\n",
       "      <th>p-unc</th>\n",
       "      <th>p-corr</th>\n",
       "      <th>p-adjust</th>\n",
       "      <th>BF10</th>\n",
       "      <th>hedges</th>\n",
       "    </tr>\n",
       "  </thead>\n",
       "  <tbody>\n",
       "    <tr>\n",
       "      <th>0</th>\n",
       "      <td>sales_script_type</td>\n",
       "      <td>script_A</td>\n",
       "      <td>script_B</td>\n",
       "      <td>8.342</td>\n",
       "      <td>4.781</td>\n",
       "      <td>4.333</td>\n",
       "      <td>2.342</td>\n",
       "      <td>False</td>\n",
       "      <td>false</td>\n",
       "      <td>14.944</td>\n",
       "      <td>583.709</td>\n",
       "      <td>two-sided</td>\n",
       "      <td>0.0</td>\n",
       "      <td>0.0</td>\n",
       "      <td>bonf</td>\n",
       "      <td>1.127e+41</td>\n",
       "      <td>1.055</td>\n",
       "    </tr>\n",
       "    <tr>\n",
       "      <th>1</th>\n",
       "      <td>sales_script_type</td>\n",
       "      <td>script_A</td>\n",
       "      <td>script_C</td>\n",
       "      <td>8.342</td>\n",
       "      <td>4.781</td>\n",
       "      <td>0.638</td>\n",
       "      <td>0.602</td>\n",
       "      <td>False</td>\n",
       "      <td>false</td>\n",
       "      <td>31.116</td>\n",
       "      <td>443.551</td>\n",
       "      <td>two-sided</td>\n",
       "      <td>0.0</td>\n",
       "      <td>0.0</td>\n",
       "      <td>bonf</td>\n",
       "      <td>9.194e+113</td>\n",
       "      <td>1.784</td>\n",
       "    </tr>\n",
       "    <tr>\n",
       "      <th>2</th>\n",
       "      <td>sales_script_type</td>\n",
       "      <td>script_B</td>\n",
       "      <td>script_C</td>\n",
       "      <td>4.333</td>\n",
       "      <td>2.342</td>\n",
       "      <td>0.638</td>\n",
       "      <td>0.602</td>\n",
       "      <td>False</td>\n",
       "      <td>false</td>\n",
       "      <td>27.265</td>\n",
       "      <td>469.572</td>\n",
       "      <td>two-sided</td>\n",
       "      <td>0.0</td>\n",
       "      <td>0.0</td>\n",
       "      <td>bonf</td>\n",
       "      <td>6.315e+94</td>\n",
       "      <td>1.745</td>\n",
       "    </tr>\n",
       "  </tbody>\n",
       "</table>\n",
       "</div>"
      ],
      "text/plain": [
       "            Contrast         A         B  mean(A)  std(A)  mean(B)  std(B)  \\\n",
       "0  sales_script_type  script_A  script_B    8.342   4.781    4.333   2.342   \n",
       "1  sales_script_type  script_A  script_C    8.342   4.781    0.638   0.602   \n",
       "2  sales_script_type  script_B  script_C    4.333   2.342    0.638   0.602   \n",
       "\n",
       "   Paired Parametric       T      dof alternative  p-unc  p-corr p-adjust  \\\n",
       "0   False      false  14.944  583.709   two-sided    0.0     0.0     bonf   \n",
       "1   False      false  31.116  443.551   two-sided    0.0     0.0     bonf   \n",
       "2   False      false  27.265  469.572   two-sided    0.0     0.0     bonf   \n",
       "\n",
       "         BF10  hedges  \n",
       "0   1.127e+41   1.055  \n",
       "1  9.194e+113   1.784  \n",
       "2   6.315e+94   1.745  "
      ]
     },
     "execution_count": 577,
     "metadata": {},
     "output_type": "execute_result"
    }
   ],
   "source": [
    "## Post-hoc test with means of script among other feature output\n",
    "pg.pairwise_ttests(dv='total_conversion', between='sales_script_type', data=df_grp_sum, parametric = 'false',\n",
    "                  alpha = 0.05, padjust = 'bonf', return_desc = 'true').round(3)"
   ]
  },
  {
   "cell_type": "markdown",
   "id": "c1afd069",
   "metadata": {},
   "source": [
    "#### Interpretation of post-hoc rest results\n",
    "\n",
    "From the post-hoc test results, the mean of script B is 4.333, mean of script A is 8.342 and the mean of script c is 0.638. The results suggests sales script A has a significantly higher conversion than sales script B and C. In a similar manner, sales script B has a significantly higher conversion than script C in statistical terms.\n",
    "\n",
    "### Conclusion drawn for objective 3\n",
    "\n",
    "The third objective seeks to assess whether difference in conversion is statistically significant and identify which sales script has a significantly higher conversion. The results based on available data suggests that on a given demo day, the number of conversion that sales script A will produce is on the average, significantly higher than the other script types hence should be prioritize in our efforts to increase conversion\n",
    "\n",
    "\n",
    "### Recommendation for objective 3\n",
    "\n",
    "The sales team should consider prioritizing script A as the best bet to attain a higher conversion rate. "
   ]
  },
  {
   "cell_type": "markdown",
   "id": "fc19e41d",
   "metadata": {},
   "source": [
    "## Objective 4: Assessing factors that influence the likelihood of a client to convert\n",
    "\n",
    "The fourth objective of the product analysis is to move a step further and assess our data with focus on predicting how various factors influence the probability of a client signing up for our product. In order to achieve the goal of higher amount of conversion, as assessment is undertaken to model whether or not a client will sign-up. Knowing how these factors influence client's decision to purchase our service will enable us better target clients by managing such predictors well. For this, a review of the various variables available has been undertaken to identify potential predictors. \n",
    "\n",
    "The business problem at hand can be translated into an analytical one that requires a classification solution. In this case, the aim is to classify clients into two groups of convert and non-convert. This is the outcome we seek to predict hence the response or dependent variable. The response variable has two categories or classes as indicated, conversion and non-conversion, hence a regression analysis that caters for such characteristics is chosen. \n",
    "\n",
    "\n",
    "### Method: Logistic regression\n",
    "Logistic regression will be used for assessing how various factors influence the probability of a client deciding to convert.\n",
    "\n",
    "Based on the available limited data guided with domain knowledge of the business operations, the potential predictors identified for the analysis are the following\n",
    "\n",
    "1. Type of sales script\n",
    "2. Company type\n",
    "\n",
    "###  Description of predictors and rational for their selection\n",
    "\n",
    "1. The relationship between the type of sales script and conversion has been our main focus for earilier analysis and yet it is still important to understand how they influence the actual decision to convert and not the total number of conversion this time round. It can be presume, as it is the case to hypothesize, that there is a logical understanding of type of sales script being a potential influential determinant.\n",
    "\n",
    "2. Company type as a potential predictor is based on the assumption that the characteristics of the company will determine its decision to finally purchase our product. Given that, these features are not adequately disclosed, the difference in labelling of company type is taken to be directly related to difference in company characteristics.\n",
    "\n",
    "\n",
    "\n",
    "### Data treatment / preprocessing \n",
    "Some predictors have receive a special focus different from earlier, in order to prepare the variables into an acceptable format for modeling. It is worthing highlight such instances for transparency and reproducability of the analysis.\n",
    "\n",
    "First of all, the company type variable had two categories being 0 and 1, and several missing data in the original dataset. In this case, it is possible that the missiing data was just an instance of unavailable data that was not provided due to some privacy concerns. Moreover, as much as 4,916 missing data is identified in the original dataset which constitutes a sizeable part of the dataset to eliminte from the analysis and very likely to reduce the possibility of capturing as much variations as the reality is on the ground. Supported by this, is the fact that, such a large amount of missing data is enough to constitute a category in its own right for analysis and insight. Based on these available information and context, the decision was made to replace all instances of missing data for company type with 'Others' as another company type. This led to reclassification of company type into company group A, B and Others corresponding to 0, 1 and missing data respectively;\n",
    "\n",
    "\n"
   ]
  },
  {
   "cell_type": "code",
   "execution_count": 507,
   "id": "4c382e64",
   "metadata": {},
   "outputs": [],
   "source": [
    "### Logistc regression\n",
    "\n",
    "#df_dplyselect.info()\n",
    "\n",
    "#### Remove all negative values in request_to_1streach_timelength_minutes_\n",
    "log_data = df_dplyselect#>> siuba.filter(_.request_to_1streach_timelength_minutes_ > 0)\n",
    "#log_data.info()\n",
    "\n"
   ]
  },
  {
   "cell_type": "code",
   "execution_count": 578,
   "id": "ec4dc8e0",
   "metadata": {},
   "outputs": [
    {
     "data": {
      "text/html": [
       "<div>\n",
       "<style scoped>\n",
       "    .dataframe tbody tr th:only-of-type {\n",
       "        vertical-align: middle;\n",
       "    }\n",
       "\n",
       "    .dataframe tbody tr th {\n",
       "        vertical-align: top;\n",
       "    }\n",
       "\n",
       "    .dataframe thead th {\n",
       "        text-align: right;\n",
       "    }\n",
       "</style>\n",
       "<table border=\"1\" class=\"dataframe\">\n",
       "  <thead>\n",
       "    <tr style=\"text-align: right;\">\n",
       "      <th></th>\n",
       "      <th>is_signed</th>\n",
       "      <th>request_to_1streach_timelength_minutes_</th>\n",
       "      <th>conversion_not_convert</th>\n",
       "      <th>sales_script_type_script_B</th>\n",
       "      <th>sales_script_type_script_C</th>\n",
       "      <th>company_group_company_A</th>\n",
       "      <th>company_group_company_B</th>\n",
       "    </tr>\n",
       "  </thead>\n",
       "  <tbody>\n",
       "    <tr>\n",
       "      <th>0</th>\n",
       "      <td>0</td>\n",
       "      <td>1080.707589</td>\n",
       "      <td>1</td>\n",
       "      <td>0</td>\n",
       "      <td>0</td>\n",
       "      <td>0</td>\n",
       "      <td>1</td>\n",
       "    </tr>\n",
       "    <tr>\n",
       "      <th>1</th>\n",
       "      <td>0</td>\n",
       "      <td>213.984909</td>\n",
       "      <td>1</td>\n",
       "      <td>0</td>\n",
       "      <td>0</td>\n",
       "      <td>0</td>\n",
       "      <td>0</td>\n",
       "    </tr>\n",
       "    <tr>\n",
       "      <th>2</th>\n",
       "      <td>0</td>\n",
       "      <td>4763.120070</td>\n",
       "      <td>1</td>\n",
       "      <td>1</td>\n",
       "      <td>0</td>\n",
       "      <td>0</td>\n",
       "      <td>0</td>\n",
       "    </tr>\n",
       "    <tr>\n",
       "      <th>3</th>\n",
       "      <td>0</td>\n",
       "      <td>141.634140</td>\n",
       "      <td>1</td>\n",
       "      <td>0</td>\n",
       "      <td>0</td>\n",
       "      <td>1</td>\n",
       "      <td>0</td>\n",
       "    </tr>\n",
       "    <tr>\n",
       "      <th>4</th>\n",
       "      <td>0</td>\n",
       "      <td>1321.721628</td>\n",
       "      <td>1</td>\n",
       "      <td>0</td>\n",
       "      <td>0</td>\n",
       "      <td>0</td>\n",
       "      <td>0</td>\n",
       "    </tr>\n",
       "    <tr>\n",
       "      <th>...</th>\n",
       "      <td>...</td>\n",
       "      <td>...</td>\n",
       "      <td>...</td>\n",
       "      <td>...</td>\n",
       "      <td>...</td>\n",
       "      <td>...</td>\n",
       "      <td>...</td>\n",
       "    </tr>\n",
       "    <tr>\n",
       "      <th>9995</th>\n",
       "      <td>0</td>\n",
       "      <td>1737.906012</td>\n",
       "      <td>1</td>\n",
       "      <td>0</td>\n",
       "      <td>0</td>\n",
       "      <td>0</td>\n",
       "      <td>1</td>\n",
       "    </tr>\n",
       "    <tr>\n",
       "      <th>9996</th>\n",
       "      <td>1</td>\n",
       "      <td>610.876292</td>\n",
       "      <td>0</td>\n",
       "      <td>0</td>\n",
       "      <td>0</td>\n",
       "      <td>0</td>\n",
       "      <td>1</td>\n",
       "    </tr>\n",
       "    <tr>\n",
       "      <th>9997</th>\n",
       "      <td>1</td>\n",
       "      <td>1156.071455</td>\n",
       "      <td>0</td>\n",
       "      <td>0</td>\n",
       "      <td>0</td>\n",
       "      <td>0</td>\n",
       "      <td>0</td>\n",
       "    </tr>\n",
       "    <tr>\n",
       "      <th>9998</th>\n",
       "      <td>0</td>\n",
       "      <td>72.615677</td>\n",
       "      <td>1</td>\n",
       "      <td>0</td>\n",
       "      <td>0</td>\n",
       "      <td>0</td>\n",
       "      <td>1</td>\n",
       "    </tr>\n",
       "    <tr>\n",
       "      <th>9999</th>\n",
       "      <td>1</td>\n",
       "      <td>56.218664</td>\n",
       "      <td>0</td>\n",
       "      <td>1</td>\n",
       "      <td>0</td>\n",
       "      <td>0</td>\n",
       "      <td>0</td>\n",
       "    </tr>\n",
       "  </tbody>\n",
       "</table>\n",
       "<p>10000 rows × 7 columns</p>\n",
       "</div>"
      ],
      "text/plain": [
       "      is_signed  request_to_1streach_timelength_minutes_  \\\n",
       "0             0                              1080.707589   \n",
       "1             0                               213.984909   \n",
       "2             0                              4763.120070   \n",
       "3             0                               141.634140   \n",
       "4             0                              1321.721628   \n",
       "...         ...                                      ...   \n",
       "9995          0                              1737.906012   \n",
       "9996          1                               610.876292   \n",
       "9997          1                              1156.071455   \n",
       "9998          0                                72.615677   \n",
       "9999          1                                56.218664   \n",
       "\n",
       "      conversion_not_convert  sales_script_type_script_B  \\\n",
       "0                          1                           0   \n",
       "1                          1                           0   \n",
       "2                          1                           1   \n",
       "3                          1                           0   \n",
       "4                          1                           0   \n",
       "...                      ...                         ...   \n",
       "9995                       1                           0   \n",
       "9996                       0                           0   \n",
       "9997                       0                           0   \n",
       "9998                       1                           0   \n",
       "9999                       0                           1   \n",
       "\n",
       "      sales_script_type_script_C  company_group_company_A  \\\n",
       "0                              0                        0   \n",
       "1                              0                        0   \n",
       "2                              0                        0   \n",
       "3                              0                        1   \n",
       "4                              0                        0   \n",
       "...                          ...                      ...   \n",
       "9995                           0                        0   \n",
       "9996                           0                        0   \n",
       "9997                           0                        0   \n",
       "9998                           0                        0   \n",
       "9999                           0                        0   \n",
       "\n",
       "      company_group_company_B  \n",
       "0                           1  \n",
       "1                           0  \n",
       "2                           0  \n",
       "3                           0  \n",
       "4                           0  \n",
       "...                       ...  \n",
       "9995                        1  \n",
       "9996                        1  \n",
       "9997                        0  \n",
       "9998                        1  \n",
       "9999                        0  \n",
       "\n",
       "[10000 rows x 7 columns]"
      ]
     },
     "execution_count": 578,
     "metadata": {},
     "output_type": "execute_result"
    }
   ],
   "source": [
    "### make dummy variables for categorical variables with more than 2 classes\n",
    "\n",
    "logdata_dummy = pd.get_dummies(df_dplyselect, prefix_sep='_', drop_first=True)\n",
    "\n",
    "logdata_dummy\n",
    "\n"
   ]
  },
  {
   "cell_type": "code",
   "execution_count": 595,
   "id": "5bd5bf88",
   "metadata": {},
   "outputs": [],
   "source": [
    "## Select columns for dependent and independent varible\n",
    "y = logdata_dummy['is_signed']\n",
    "\n",
    "X = logdata_dummy.drop(columns=['conversion_not_convert', 'is_signed', 'request_to_1streach_timelength_minutes_'])\n"
   ]
  },
  {
   "cell_type": "code",
   "execution_count": 596,
   "id": "8e999187",
   "metadata": {},
   "outputs": [],
   "source": [
    "## Split data into training and validation dataset\n",
    "train_X, valid_X, train_y, valid_y = train_test_split(X, y, test_size=0.4, random_state=1)\n",
    "\n",
    "\n"
   ]
  },
  {
   "cell_type": "code",
   "execution_count": 597,
   "id": "3318305e",
   "metadata": {},
   "outputs": [
    {
     "data": {
      "text/html": [
       "<div>\n",
       "<style scoped>\n",
       "    .dataframe tbody tr th:only-of-type {\n",
       "        vertical-align: middle;\n",
       "    }\n",
       "\n",
       "    .dataframe tbody tr th {\n",
       "        vertical-align: top;\n",
       "    }\n",
       "\n",
       "    .dataframe thead th {\n",
       "        text-align: right;\n",
       "    }\n",
       "</style>\n",
       "<table border=\"1\" class=\"dataframe\">\n",
       "  <thead>\n",
       "    <tr style=\"text-align: right;\">\n",
       "      <th></th>\n",
       "      <th>names</th>\n",
       "      <th>coef</th>\n",
       "      <th>se</th>\n",
       "      <th>z</th>\n",
       "      <th>pval</th>\n",
       "      <th>CI[2.5%]</th>\n",
       "      <th>CI[97.5%]</th>\n",
       "    </tr>\n",
       "  </thead>\n",
       "  <tbody>\n",
       "    <tr>\n",
       "      <th>0</th>\n",
       "      <td>Intercept</td>\n",
       "      <td>-0.026989</td>\n",
       "      <td>0.041028</td>\n",
       "      <td>-0.657816</td>\n",
       "      <td>0.510656</td>\n",
       "      <td>-0.107403</td>\n",
       "      <td>0.053425</td>\n",
       "    </tr>\n",
       "    <tr>\n",
       "      <th>1</th>\n",
       "      <td>sales_script_type_script_B</td>\n",
       "      <td>-0.049030</td>\n",
       "      <td>0.055341</td>\n",
       "      <td>-0.885964</td>\n",
       "      <td>0.375637</td>\n",
       "      <td>-0.157495</td>\n",
       "      <td>0.059436</td>\n",
       "    </tr>\n",
       "    <tr>\n",
       "      <th>2</th>\n",
       "      <td>sales_script_type_script_C</td>\n",
       "      <td>0.243650</td>\n",
       "      <td>0.238120</td>\n",
       "      <td>1.023226</td>\n",
       "      <td>0.306201</td>\n",
       "      <td>-0.223056</td>\n",
       "      <td>0.710357</td>\n",
       "    </tr>\n",
       "    <tr>\n",
       "      <th>3</th>\n",
       "      <td>company_group_company_A</td>\n",
       "      <td>0.045234</td>\n",
       "      <td>0.067798</td>\n",
       "      <td>0.667187</td>\n",
       "      <td>0.504653</td>\n",
       "      <td>-0.087648</td>\n",
       "      <td>0.178115</td>\n",
       "    </tr>\n",
       "    <tr>\n",
       "      <th>4</th>\n",
       "      <td>company_group_company_B</td>\n",
       "      <td>0.103170</td>\n",
       "      <td>0.059694</td>\n",
       "      <td>1.728315</td>\n",
       "      <td>0.083932</td>\n",
       "      <td>-0.013828</td>\n",
       "      <td>0.220169</td>\n",
       "    </tr>\n",
       "  </tbody>\n",
       "</table>\n",
       "</div>"
      ],
      "text/plain": [
       "                        names      coef        se         z      pval  \\\n",
       "0                   Intercept -0.026989  0.041028 -0.657816  0.510656   \n",
       "1  sales_script_type_script_B -0.049030  0.055341 -0.885964  0.375637   \n",
       "2  sales_script_type_script_C  0.243650  0.238120  1.023226  0.306201   \n",
       "3     company_group_company_A  0.045234  0.067798  0.667187  0.504653   \n",
       "4     company_group_company_B  0.103170  0.059694  1.728315  0.083932   \n",
       "\n",
       "   CI[2.5%]  CI[97.5%]  \n",
       "0 -0.107403   0.053425  \n",
       "1 -0.157495   0.059436  \n",
       "2 -0.223056   0.710357  \n",
       "3 -0.087648   0.178115  \n",
       "4 -0.013828   0.220169  "
      ]
     },
     "execution_count": 597,
     "metadata": {},
     "output_type": "execute_result"
    }
   ],
   "source": [
    "## Fit logistic regression on training dataset\n",
    "\n",
    "pg.logistic_regression(train_X, train_y)"
   ]
  },
  {
   "cell_type": "markdown",
   "id": "1e53c9f5",
   "metadata": {},
   "source": [
    "###### Assessment of the model performance and using it for prediction based on the validation dataset is provided as a dashboard in a web application. The analysis this far has satisfied the objective set-out"
   ]
  },
  {
   "cell_type": "markdown",
   "id": "886e3874",
   "metadata": {},
   "source": [
    "### Insights from multiple logistic regression\n",
    "\n",
    "The logistic regression for predicting the probability that a client will sign-up produced a non-significant p-value for all cases. Script A was used as reference point for script B and C. Thus, with a co-efficient of -0.049 for script B, it is suggested that using script B results in a decrease in the log odds of signing a client by 0.049 in comparison to script A. This is however statistically insignificant. Script C has a co-efficient of 0.24 which suggests that when a sales manager uses script C, the log odds of signing a client increases by 0.24 compared to script A which is statistically insignificant.\n",
    "\n",
    "\n",
    "With regards to prioritizing companies to reach out to in order to increase conversion, when sales managers take a session with company A or company B, the log odds of landing a conversion increases compared to when they target companies categorized as 'Others' in this analysis. The result is however statistically insignificant.\n",
    "\n",
    "\n",
    "### Recommendation for objective 4\n",
    "\n",
    "From the analysis undertaken, it is recommended that the sales team consider not prioritizing demo sessions with company type 'Others'. This should however not be treated as a de facto discrimination favouring company A and B to increase conversion given that the results are statistically insignificant.  "
   ]
  },
  {
   "cell_type": "markdown",
   "id": "605b9a71",
   "metadata": {},
   "source": [
    "### Recommendation on improving data collection for better analytics of greater statistical power\n",
    "\n",
    "Some potential predictors that could be included in the model are available in the dataset but the data format or how it is organized is not suitable for further transformation and inclusion in the model. I will highlight them and suggest how to organized such data to be used. This is intended to lay a foundation for a cross-functional and collaborative teamwork with other departments that generate data to be analyze.\n",
    "\n",
    "source* - marketing source of the lead. This variable is very important in order to gain insight into\n",
    "the effectiveness of marketing strategy in producing conversion. Currently, the variable has 28\n",
    "unique categories which requires that they are classified into logical groups of similarity, for instance\n",
    "organic source, referral, direct or indirect soruce, in order to be used as a categorical predictor. Given that actual names of the source have been hashed, such exercise is currently not possible hence the exclusion of this potential predictor. Thus, it is recommended that the actual names of the marketing source be provided to consider the possibility of using them as potential predictors.\n",
    "\n",
    "sales_group_name* The type of sales team is likely to be a potential predictor influencing\n",
    "conversion. This variable has 22 categories which needs to be grouped in order to be used a categorical\n",
    "predictor. To do this, there is the need to provide further description about the various groups in order to classify them into logical groups for predicting conversion."
   ]
  },
  {
   "cell_type": "markdown",
   "id": "925ad4fb",
   "metadata": {},
   "source": [
    "## Summary on the product analysis\n",
    "\n",
    "This analysis set-out to provide data-driven evidence to support decision making by the product team with the aim of increasing conversion. \n",
    "\n",
    "A major tool that the sales team use to aid conversion is sales script of which there are different variant. Thus, the main focus of the analysis is assess the role of sales script as a driver of conversion among others. To achieve this, there was initial conceptualization of the business problem which translated into several hypothesis. \n",
    "\n",
    "Among others, the analysis sought to test the hypothesis that there is statistically significant relationship between type of sales script and conversion and that there is statistically significant difference in the total conversion made using different script. Further, the analysis sought to assess how sales script and company type influences the likelihood of a company signing up during and after a demo session.\n",
    "\n",
    "\n",
    "\n",
    "\n",
    "### What should we pay attention to\n",
    "\n",
    "1. It is recommended that sales script A be prioritized when deciding on the type of sales script to use for a demo. This is informed by the fact that sales script A had a statistically significant higher conversions on the average compared to the other scripts. It should be noted that even though the multiple logistic regression suggested that the odds of signing up slightly increases in favour of script C, this result was not statistically significant. Moreover, other variables such as company type may have contributed as a confounding factor\n",
    "\n",
    "2. It is recommended that sales script B be given a higher priority in comparison to script C for use in demo session in order to increase overall conversion. \n",
    "\n",
    "\n",
    "\n",
    "### What should we do next\n",
    "\n",
    "1. The analysis has underscored that while it was possible to derive insights from the available data, there is the need to include other potential predictors in the data collected. This is informed by the fact that, the models developed (shared on the web app) does not adequately explain the variation in conversion rate. This in addition to other recommendations provided will set-up Envio on the path to strong data driven decision making to increase conversion\n",
    "\n",
    "\n"
   ]
  },
  {
   "cell_type": "markdown",
   "id": "8608c38c",
   "metadata": {},
   "source": [
    "#### WEB APP FOR THE TIME SERIES ANALYSIS IN PREDICTIVE MODELLING\n",
    "\n",
    "#### BONUS WORK\n",
    "In addition to the report available here, a simple dashboard for interactive visualization of KPI such as Conversion rate, time series analysis, forecasting conversion and predicting conversion has been developed\n",
    "\n",
    "Please, access the web app for the rest of the analytics https://agbleze.shinyapps.io/Envio-Product-analytics/"
   ]
  }
 ],
 "metadata": {
  "kernelspec": {
   "display_name": "Python 3",
   "language": "python",
   "name": "python3"
  },
  "language_info": {
   "codemirror_mode": {
    "name": "ipython",
    "version": 3
   },
   "file_extension": ".py",
   "mimetype": "text/x-python",
   "name": "python",
   "nbconvert_exporter": "python",
   "pygments_lexer": "ipython3",
   "version": "3.8.8"
  }
 },
 "nbformat": 4,
 "nbformat_minor": 5
}
